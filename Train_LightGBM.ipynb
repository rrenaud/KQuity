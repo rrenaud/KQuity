{
 "cells": [
  {
   "cell_type": "code",
   "execution_count": 1,
   "id": "9d387e17",
   "metadata": {},
   "outputs": [],
   "source": [
    "import copy\n",
    "import lightgbm as lgb\n",
    "import os\n",
    "import numpy as np\n",
    "import sklearn.metrics\n",
    "\n",
    "from preprocess import *"
   ]
  },
  {
   "cell_type": "code",
   "execution_count": 2,
   "id": "56051c35",
   "metadata": {},
   "outputs": [],
   "source": [
    "expts_subdir = 'model_experiments'\n",
    "expt_suffix = 'sort_workers_by_power_drop_90'\n",
    "train_base = f'{expts_subdir}/{expt_suffix}/gameevents_0[0-7][0-9].csv'\n",
    "test_base =  f'{expts_subdir}/{expt_suffix}/gameevents_0[8-9][0-9].csv'\n",
    "model_filename = f'{expts_subdir}/{expt_suffix}/model.mdl'"
   ]
  },
  {
   "cell_type": "code",
   "execution_count": 3,
   "id": "72c1cdbd",
   "metadata": {},
   "outputs": [],
   "source": [
    "def load_vectors(pattern):\n",
    "    X = np.load(f'{pattern}_states.npy')\n",
    "    y = np.load(f'{pattern}_labels.npy')\n",
    "    return X, y\n",
    "\n",
    "train_X, train_y = load_vectors(train_base)\n",
    "test_X, test_y = load_vectors(test_base)"
   ]
  },
  {
   "cell_type": "code",
   "execution_count": 4,
   "id": "8ac70f22",
   "metadata": {},
   "outputs": [],
   "source": [
    "def train(t_y, num_leaves, num_trees, objective='binary'):\n",
    "    train_data = lgb.Dataset(train_X, t_y)\n",
    "    param = {'num_leaves': num_leaves, 'objective': objective, 'metric': 'binary_logloss', 'boosting': 'gbdt'}\n",
    "    return lgb.train(param, train_data, num_trees)"
   ]
  },
  {
   "cell_type": "code",
   "execution_count": 5,
   "id": "4934460f",
   "metadata": {},
   "outputs": [
    {
     "name": "stdout",
     "output_type": "stream",
     "text": [
      "[LightGBM] [Info] Number of positive: 394109, number of negative: 400478\n",
      "[LightGBM] [Warning] Auto-choosing row-wise multi-threading, the overhead of testing was 0.089562 seconds.\n",
      "You can set `force_row_wise=true` to remove the overhead.\n",
      "And if memory is not enough, you can set `force_col_wise=true`.\n",
      "[LightGBM] [Info] Total Bins 439\n",
      "[LightGBM] [Info] Number of data points in the train set: 794587, number of used features: 52\n",
      "[LightGBM] [Info] [binary:BoostFromScore]: pavg=0.495992 -> initscore=-0.016031\n",
      "[LightGBM] [Info] Start training from score -0.016031\n"
     ]
    }
   ],
   "source": [
    "num_leaves = 100\n",
    "num_trees = 100\n",
    "bst = train(train_y, num_leaves, num_trees)"
   ]
  },
  {
   "cell_type": "code",
   "execution_count": 6,
   "id": "11204cc9",
   "metadata": {
    "scrolled": true
   },
   "outputs": [
    {
     "data": {
      "text/plain": [
       "<lightgbm.basic.Booster at 0x7f8ca9b289d0>"
      ]
     },
     "execution_count": 6,
     "metadata": {},
     "output_type": "execute_result"
    }
   ],
   "source": [
    "bst.save_model(model_filename)"
   ]
  },
  {
   "cell_type": "code",
   "execution_count": 7,
   "id": "03afdd08",
   "metadata": {},
   "outputs": [
    {
     "name": "stdout",
     "output_type": "stream",
     "text": [
      "model_experiments/sort_workers_by_power_drop_90/model.mdl\n"
     ]
    }
   ],
   "source": [
    "print(model_filename)"
   ]
  },
  {
   "cell_type": "code",
   "execution_count": 8,
   "id": "0bad07fd",
   "metadata": {},
   "outputs": [
    {
     "name": "stdout",
     "output_type": "stream",
     "text": [
      "              precision    recall  f1-score   support\n",
      "\n",
      "           0       0.70      0.71      0.71    573947\n",
      "           1       0.70      0.70      0.70    566930\n",
      "\n",
      "    accuracy                           0.70   1140877\n",
      "   macro avg       0.70      0.70      0.70   1140877\n",
      "weighted avg       0.70      0.70      0.70   1140877\n",
      "\n"
     ]
    }
   ],
   "source": [
    "print(sklearn.metrics.classification_report(test_y, bst.predict(test_X) > .5))"
   ]
  },
  {
   "cell_type": "code",
   "execution_count": 9,
   "id": "ffe926b1",
   "metadata": {},
   "outputs": [],
   "source": [
    "bst_preds = bst.predict(test_X)\n"
   ]
  },
  {
   "cell_type": "code",
   "execution_count": 15,
   "id": "930865e9",
   "metadata": {},
   "outputs": [
    {
     "name": "stdout",
     "output_type": "stream",
     "text": [
      "0\n",
      "100\n",
      "200\n",
      "300\n",
      "400\n",
      "500\n",
      "600\n",
      "700\n",
      "800\n",
      "900\n",
      "1000\n",
      "1100\n",
      "1200\n",
      "1300\n",
      "1400\n",
      "1500\n",
      "1600\n",
      "1700\n",
      "1800\n",
      "1900\n",
      "2000\n"
     ]
    }
   ],
   "source": [
    "def iterate_unseen_states():\n",
    "    csv_path = 'validated_all_gameevent_partitioned/gameevents_0[8-9][0-9].csv'\n",
    "\n",
    "    events = iterate_events_from_csv(csv_path)\n",
    "    map_structure_infos = map_structure.MapStructureInfos()\n",
    "\n",
    "    yield from iterate_game_events_with_state(events, map_structure_infos)\n",
    "\n",
    "def compute_seq():\n",
    "    count = 0\n",
    "\n",
    "    for game_id, event, game_state, all_game_events in iterate_unseen_states():\n",
    "        if game_state.get_team(Team.BLUE).eggs != 2:\n",
    "            if (count % 100 == 0):\n",
    "                print(count)\n",
    "            count += 1\n",
    "            if count > 2000:\n",
    "                break\n",
    "            new_gs = copy.deepcopy(game_state)\n",
    "            \n",
    "            new_gs.get_team(Team.BLUE).eggs += 1\n",
    "            new_encoded = vectorize_game_state(new_gs, event)\n",
    "            old_encoded = vectorize_game_state(game_state, event)\n",
    "            preds = bst.predict([old_encoded, new_encoded])\n",
    "            pred_diff = preds[1] - preds[0]\n",
    "            yield(pred_diff)\n",
    "\n",
    "deltas = list(compute_seq())"
   ]
  },
  {
   "cell_type": "code",
   "execution_count": 16,
   "id": "65e413a7",
   "metadata": {},
   "outputs": [
    {
     "name": "stdout",
     "output_type": "stream",
     "text": [
      "`sort_workers_by_power_drop_90_l100_t100 ll:0.556 acc:0.704 egginv:0.0055`\n"
     ]
    }
   ],
   "source": [
    "inversions = sum(d < 0 for d in deltas)\n",
    "ll1 = sklearn.metrics.log_loss(test_y, bst_preds )\n",
    "acc = sklearn.metrics.accuracy_score(test_y, bst_preds > .5) \n",
    "egginv = float(inversions) / len(deltas)\n",
    "\n",
    "print(f'`{expt_suffix:25}_l{num_leaves}_t{num_trees} ll:{ll1:,.3f} acc:{acc:,.3f} egginv:{egginv}`')"
   ]
  },
  {
   "cell_type": "markdown",
   "id": "12f04c89",
   "metadata": {},
   "source": [
    "`fresh_baseline            ll:0.572 acc:0.696 egginv:0.042`\n",
    "\n",
    "`no_food_dep               ll:0.572 acc:0.695 egginv:0.02`\n",
    "\n",
    "`ema_halflife_2_seconds_50_20    ll:0.588 acc:0.690 egginv:0.021`\n",
    "\n",
    "`ema_halflife_2_seconds_100_50    ll:0.565 acc:0.699 egginv:0.021`\n",
    "\n",
    "`no_food_dep_100_50               ll:0.561 acc:0.702 egginv:0.005`\n",
    "\n",
    "`sort_workers_by_power     ll:0.559 acc:0.703 egginv:0.012`\n",
    "\n",
    "`sort_workers_by_power_more_data ll:0.559 acc:0.703 egginv:0.002`\n",
    "\n",
    "`sort_workers_by_power_less_data ll:0.559 acc:0.703 egginv:0.013`\n",
    "\n",
    "`sort_workers_by_power_full_data ll:0.559 acc:0.703 egginv:0.004`\n",
    "\n",
    "`sort_workers_by_power_strided_20 ll:0.559 acc:0.702 egginv:0.014`\n",
    "\n",
    "`sort_workers_by_power_strided_100 ll:0.562 acc:0.702 egginv:0.026`\n",
    "\n",
    "`sort_workers_by_power_full_200_leaves_100_trees ll:0.555 acc:0.704 egginv:0.004`\n",
    "\n",
    "`sort_workers_by_power_full_400_leaves_200_trees ll:0.558 acc:0.702 egginv:0.013`\n",
    "\n",
    "`sort_workers_by_power_full_200_leaves_200_trees ll:0.556 acc:0.703 egginv:0.006`\n",
    "\n",
    "`sort_workers_by_power_drop_90_200_leaves_100_trees ll:0.557 acc:0.703 egginv:0.001`\n",
    "\n",
    "`sort_workers_by_power_drop_90_l100_t100 ll:0.556 acc:0.704 egginv:0.0055`\n",
    "\n",
    "\n",
    "\n",
    "\n",
    "\n",
    "\n",
    "\n",
    "\n",
    "\n",
    "\n",
    "\n",
    "\n",
    "\n",
    "\n",
    "\n",
    "\n"
   ]
  }
 ],
 "metadata": {
  "kernelspec": {
   "display_name": "Python 3 (ipykernel)",
   "language": "python",
   "name": "python3"
  },
  "language_info": {
   "codemirror_mode": {
    "name": "ipython",
    "version": 3
   },
   "file_extension": ".py",
   "mimetype": "text/x-python",
   "name": "python",
   "nbconvert_exporter": "python",
   "pygments_lexer": "ipython3",
   "version": "3.10.7"
  }
 },
 "nbformat": 4,
 "nbformat_minor": 5
}
