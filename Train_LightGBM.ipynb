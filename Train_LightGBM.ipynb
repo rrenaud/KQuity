{
 "cells": [
  {
   "cell_type": "code",
   "execution_count": 3,
   "id": "9d387e17",
   "metadata": {},
   "outputs": [],
   "source": [
    "import lightgbm as lgb\n",
    "import numpy as np\n",
    "import sklearn.metrics"
   ]
  },
  {
   "cell_type": "code",
   "execution_count": 53,
   "id": "72c1cdbd",
   "metadata": {},
   "outputs": [],
   "source": [
    "base = 'gameevents_0[1-9][0-9].csv'\n",
    "train_X = np.load(f'{base}_game_states.npy')\n",
    "train_y = np.load(f'{base}_labels.npy')\n",
    "train_data = lgb.Dataset(train_X, train_y)"
   ]
  },
  {
   "cell_type": "code",
   "execution_count": 61,
   "id": "4934460f",
   "metadata": {},
   "outputs": [
    {
     "name": "stdout",
     "output_type": "stream",
     "text": [
      "[LightGBM] [Info] Number of positive: 440788, number of negative: 447567\n",
      "[LightGBM] [Warning] Auto-choosing row-wise multi-threading, the overhead of testing was 0.057770 seconds.\n",
      "You can set `force_row_wise=true` to remove the overhead.\n",
      "And if memory is not enough, you can set `force_col_wise=true`.\n",
      "[LightGBM] [Info] Total Bins 443\n",
      "[LightGBM] [Info] Number of data points in the train set: 888355, number of used features: 71\n",
      "[LightGBM] [Info] [binary:BoostFromScore]: pavg=0.496185 -> initscore=-0.015262\n",
      "[LightGBM] [Info] Start training from score -0.015262\n"
     ]
    }
   ],
   "source": [
    "param = {'num_leaves': 1000, 'objective': 'binary', 'metric': 'binary_logloss', 'boosting': 'dart'}\n",
    "bst = lgb.train(param, train_data, 200)"
   ]
  },
  {
   "cell_type": "code",
   "execution_count": 41,
   "id": "0ecd5c58",
   "metadata": {},
   "outputs": [],
   "source": [
    "test_X = np.load('gameevents_000.csv_game_states.npy')\n",
    "test_y = np.load('gameevents_000.csv_labels.npy')"
   ]
  },
  {
   "cell_type": "code",
   "execution_count": 62,
   "id": "0bad07fd",
   "metadata": {},
   "outputs": [
    {
     "name": "stdout",
     "output_type": "stream",
     "text": [
      "              precision    recall  f1-score   support\n",
      "\n",
      "           0       0.68      0.70      0.69     50919\n",
      "           1       0.70      0.68      0.69     52701\n",
      "\n",
      "    accuracy                           0.69    103620\n",
      "   macro avg       0.69      0.69      0.69    103620\n",
      "weighted avg       0.69      0.69      0.69    103620\n",
      "\n"
     ]
    }
   ],
   "source": [
    "print(sklearn.metrics.classification_report(test_y, bst.predict(test_X) > .5))"
   ]
  }
 ],
 "metadata": {
  "kernelspec": {
   "display_name": "Python 3 (ipykernel)",
   "language": "python",
   "name": "python3"
  },
  "language_info": {
   "codemirror_mode": {
    "name": "ipython",
    "version": 3
   },
   "file_extension": ".py",
   "mimetype": "text/x-python",
   "name": "python",
   "nbconvert_exporter": "python",
   "pygments_lexer": "ipython3",
   "version": "3.10.7"
  }
 },
 "nbformat": 4,
 "nbformat_minor": 5
}
