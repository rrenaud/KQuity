{
 "cells": [
  {
   "cell_type": "code",
   "execution_count": 1,
   "id": "9d387e17",
   "metadata": {},
   "outputs": [],
   "source": [
    "import copy\n",
    "import lightgbm as lgb\n",
    "import os\n",
    "import numpy as np\n",
    "import sklearn.metrics\n",
    "\n",
    "from preprocess import *\n"
   ]
  },
  {
   "cell_type": "code",
   "execution_count": 19,
   "id": "72c1cdbd",
   "metadata": {},
   "outputs": [],
   "source": [
    "train_base = 'gameevents_0[0-7][0-9].csv'\n",
    "test_base = 'gameevents_0[8-9][0-9].csv'\n",
    "expt_suffix = 'no_team_diff_'\n",
    "\n",
    "def load_vectors(pattern):\n",
    "    X = np.load(f'{pattern}_{expt_suffix}game_states.npy')\n",
    "    y = np.load(f'{pattern}_{expt_suffix}labels.npy')\n",
    "    return X, y\n",
    "\n",
    "train_X, train_y = load_vectors(train_base)\n",
    "test_X, test_y = load_vectors(test_base)"
   ]
  },
  {
   "cell_type": "code",
   "execution_count": 20,
   "id": "8ac70f22",
   "metadata": {},
   "outputs": [],
   "source": [
    "def train(t_y, num_leaves, objective='binary'):\n",
    "    train_data = lgb.Dataset(train_X, t_y)\n",
    "    param = {'num_leaves': num_leaves, 'objective': objective, 'metric': 'binary_logloss', 'boosting': 'gbdt'}\n",
    "    return lgb.train(param, train_data, 200)"
   ]
  },
  {
   "cell_type": "code",
   "execution_count": 21,
   "id": "4934460f",
   "metadata": {},
   "outputs": [
    {
     "name": "stdout",
     "output_type": "stream",
     "text": [
      "[LightGBM] [Info] Number of positive: 433643, number of negative: 441060\n",
      "[LightGBM] [Warning] Auto-choosing row-wise multi-threading, the overhead of testing was 0.090473 seconds.\n",
      "You can set `force_row_wise=true` to remove the overhead.\n",
      "And if memory is not enough, you can set `force_col_wise=true`.\n",
      "[LightGBM] [Info] Total Bins 488\n",
      "[LightGBM] [Info] Number of data points in the train set: 874703, number of used features: 77\n",
      "[LightGBM] [Info] [binary:BoostFromScore]: pavg=0.495760 -> initscore=-0.016959\n",
      "[LightGBM] [Info] Start training from score -0.016959\n"
     ]
    }
   ],
   "source": [
    "bst = train(train_y, 1000)"
   ]
  },
  {
   "cell_type": "code",
   "execution_count": 5,
   "id": "8d5dfef4",
   "metadata": {},
   "outputs": [],
   "source": [
    "new_train_y = bst.predict(train_X)"
   ]
  },
  {
   "cell_type": "code",
   "execution_count": 6,
   "id": "9d41a3a3",
   "metadata": {
    "scrolled": false
   },
   "outputs": [],
   "source": [
    "#print(list(zip(train_y[:100], new_train_Y[:100])))"
   ]
  },
  {
   "cell_type": "code",
   "execution_count": 8,
   "id": "6f7adfbd",
   "metadata": {},
   "outputs": [
    {
     "name": "stdout",
     "output_type": "stream",
     "text": [
      "0.49576027520198285 0.4957446793531138\n",
      "0.27992061485335434\n",
      "0.7152601837847815\n"
     ]
    }
   ],
   "source": [
    "def avg(l):\n",
    "    return sum(l)/len(l)\n",
    "\n",
    "print(avg(train_y), avg(new_train_y))\n",
    "print(avg([new_y for old_y, new_y in zip(train_y, new_train_y) if old_y == 0]))\n",
    "print(avg([new_y for old_y, new_y in zip(train_y, new_train_y) if old_y == 1]))"
   ]
  },
  {
   "cell_type": "code",
   "execution_count": 9,
   "id": "cd8e4d13",
   "metadata": {},
   "outputs": [
    {
     "name": "stdout",
     "output_type": "stream",
     "text": [
      "[LightGBM] [Warning] Auto-choosing row-wise multi-threading, the overhead of testing was 0.307676 seconds.\n",
      "You can set `force_row_wise=true` to remove the overhead.\n",
      "And if memory is not enough, you can set `force_col_wise=true`.\n",
      "[LightGBM] [Info] Total Bins 622\n",
      "[LightGBM] [Info] Number of data points in the train set: 874703, number of used features: 109\n",
      "[LightGBM] [Info] Start training from score 0.495745\n"
     ]
    }
   ],
   "source": [
    "bst2 = train(new_train_y, 1000, objective='regression')"
   ]
  },
  {
   "cell_type": "code",
   "execution_count": 10,
   "id": "0ecd5c58",
   "metadata": {},
   "outputs": [],
   "source": []
  },
  {
   "cell_type": "code",
   "execution_count": 22,
   "id": "0bad07fd",
   "metadata": {},
   "outputs": [
    {
     "name": "stdout",
     "output_type": "stream",
     "text": [
      "              precision    recall  f1-score   support\n",
      "\n",
      "           0       0.68      0.70      0.69    629982\n",
      "           1       0.68      0.66      0.67    622564\n",
      "\n",
      "    accuracy                           0.68   1252546\n",
      "   macro avg       0.68      0.68      0.68   1252546\n",
      "weighted avg       0.68      0.68      0.68   1252546\n",
      "\n"
     ]
    }
   ],
   "source": [
    "print(sklearn.metrics.classification_report(test_y, bst.predict(test_X) > .5))"
   ]
  },
  {
   "cell_type": "code",
   "execution_count": 12,
   "id": "be6a2247",
   "metadata": {},
   "outputs": [
    {
     "name": "stdout",
     "output_type": "stream",
     "text": [
      "              precision    recall  f1-score   support\n",
      "\n",
      "           0       0.68      0.70      0.69    629982\n",
      "           1       0.69      0.67      0.68    622564\n",
      "\n",
      "    accuracy                           0.68   1252546\n",
      "   macro avg       0.68      0.68      0.68   1252546\n",
      "weighted avg       0.68      0.68      0.68   1252546\n",
      "\n"
     ]
    }
   ],
   "source": [
    "print(sklearn.metrics.classification_report(test_y, bst2.predict(test_X) > .5))"
   ]
  },
  {
   "cell_type": "code",
   "execution_count": 13,
   "id": "924eaa14",
   "metadata": {},
   "outputs": [],
   "source": [
    "def iterate_unseen_states():\n",
    "    csv_path = 'validated_all_gameevent_partitioned/gameevents_0[8-9][0-9].csv'\n",
    "\n",
    "    events = iterate_events_from_csv(csv_path)\n",
    "    map_structure_infos = map_structure.MapStructureInfos()\n",
    "\n",
    "    yield from iterate_game_events_with_state(events, map_structure_infos)"
   ]
  },
  {
   "cell_type": "code",
   "execution_count": 14,
   "id": "b010a468",
   "metadata": {},
   "outputs": [
    {
     "name": "stdout",
     "output_type": "stream",
     "text": [
      "(642637, <preprocess.MapStartEvent object at 0x7f13759563e0>, <preprocess.GameState object at 0x7f134788fca0>, [<preprocess.MapStartEvent object at 0x7f13759563e0>, <preprocess.SpawnEvent object at 0x7f13759575b0>, <preprocess.SpawnEvent object at 0x7f1375956d10>, <preprocess.SpawnEvent object at 0x7f1375955c00>, <preprocess.SpawnEvent object at 0x7f1375957460>, <preprocess.SpawnEvent object at 0x7f1375956530>, <preprocess.SpawnEvent object at 0x7f1375956860>, <preprocess.SpawnEvent object at 0x7f1375956d40>, <preprocess.SpawnEvent object at 0x7f1375956fb0>, <preprocess.SpawnEvent object at 0x7f1375955930>, <preprocess.BlessMaidenEvent object at 0x7f1375956140>, <preprocess.BlessMaidenEvent object at 0x7f1375956350>, <preprocess.SpawnEvent object at 0x7f1375956020>, <preprocess.GameStartEvent object at 0x7f13759573d0>, <preprocess.CarryFoodEvent object at 0x7f1375956e00>, <preprocess.CarryFoodEvent object at 0x7f1375956c80>, <preprocess.CarryFoodEvent object at 0x7f1375955780>, <preprocess.CarryFoodEvent object at 0x7f1375957a90>, <preprocess.CarryFoodEvent object at 0x7f1375957a60>, <preprocess.BlessMaidenEvent object at 0x7f1375956ec0>, <preprocess.PlayerKillEvent object at 0x7f1375957fa0>, <preprocess.BlessMaidenEvent object at 0x7f1375957580>, <preprocess.CarryFoodEvent object at 0x7f1375957520>, <preprocess.CarryFoodEvent object at 0x7f13759565c0>, <preprocess.UseMaidenEvent object at 0x7f13759572e0>, <preprocess.UseMaidenEvent object at 0x7f1375955ab0>, <preprocess.UseMaidenEvent object at 0x7f1375955690>, <preprocess.UseMaidenEvent object at 0x7f1375955960>, <preprocess.BerryDepositEvent object at 0x7f13759556f0>, <preprocess.UseMaidenEvent object at 0x7f1375957040>, <preprocess.CarryFoodEvent object at 0x7f1375956260>, <preprocess.CarryFoodEvent object at 0x7f13759157e0>, <preprocess.CarryFoodEvent object at 0x7f1375915960>, <preprocess.BerryDepositEvent object at 0x7f1375915990>, <preprocess.PlayerKillEvent object at 0x7f13759155a0>, <preprocess.BerryDepositEvent object at 0x7f1375915420>, <preprocess.UseMaidenEvent object at 0x7f13759153f0>, <preprocess.CarryFoodEvent object at 0x7f13759159c0>, <preprocess.BlessMaidenEvent object at 0x7f1375915750>, <preprocess.UseMaidenEvent object at 0x7f1375915780>, <preprocess.BlessMaidenEvent object at 0x7f1375915300>, <preprocess.CarryFoodEvent object at 0x7f1375915930>, <preprocess.CarryFoodEvent object at 0x7f1375915810>, <preprocess.BlessMaidenEvent object at 0x7f1375915540>, <preprocess.CarryFoodEvent object at 0x7f1375917790>, <preprocess.BlessMaidenEvent object at 0x7f1375915330>, <preprocess.BerryDepositEvent object at 0x7f1375915720>, <preprocess.PlayerKillEvent object at 0x7f1375915600>, <preprocess.BerryDepositEvent object at 0x7f13759154e0>, <preprocess.CarryFoodEvent object at 0x7f13478004f0>, <preprocess.BerryDepositEvent object at 0x7f1347800130>, <preprocess.UseMaidenEvent object at 0x7f1347803790>, <preprocess.CarryFoodEvent object at 0x7f1347803a30>, <preprocess.BerryDepositEvent object at 0x7f137591e1a0>, <preprocess.CarryFoodEvent object at 0x7f137591ec80>, <preprocess.CarryFoodEvent object at 0x7f137591c430>, <preprocess.CarryFoodEvent object at 0x7f137591f8b0>, <preprocess.PlayerKillEvent object at 0x7f137591f760>, <preprocess.BerryDepositEvent object at 0x7f137591df30>, <preprocess.BerryDepositEvent object at 0x7f137591ded0>, <preprocess.BlessMaidenEvent object at 0x7f137591fc10>, <preprocess.PlayerKillEvent object at 0x7f137591dea0>, <preprocess.BlessMaidenEvent object at 0x7f1347993400>, <preprocess.CarryFoodEvent object at 0x7f13479a5ea0>, <preprocess.PlayerKillEvent object at 0x7f13479a5720>, <preprocess.CarryFoodEvent object at 0x7f13479a4250>, <preprocess.CarryFoodEvent object at 0x7f1347818b50>, <preprocess.PlayerKillEvent object at 0x7f134781a500>, <preprocess.UseMaidenEvent object at 0x7f13478198a0>, <preprocess.CarryFoodEvent object at 0x7f13478193f0>, <preprocess.BerryDepositEvent object at 0x7f134781aef0>, <preprocess.UseMaidenEvent object at 0x7f134781b100>, <preprocess.BlessMaidenEvent object at 0x7f134781ad70>, <preprocess.PlayerKillEvent object at 0x7f1347836fb0>, <preprocess.BlessMaidenEvent object at 0x7f13478ce920>, <preprocess.CarryFoodEvent object at 0x7f13478cdcc0>, <preprocess.CarryFoodEvent object at 0x7f13478cfdf0>, <preprocess.PlayerKillEvent object at 0x7f13478cf160>, <preprocess.UseMaidenEvent object at 0x7f13478cd2a0>, <preprocess.BlessMaidenEvent object at 0x7f13478cee00>, <preprocess.PlayerKillEvent object at 0x7f13478cceb0>, <preprocess.CarryFoodEvent object at 0x7f13478ce440>, <preprocess.PlayerKillEvent object at 0x7f13478e0760>, <preprocess.BlessMaidenEvent object at 0x7f13478e02b0>, <preprocess.CarryFoodEvent object at 0x7f134788c580>, <preprocess.PlayerKillEvent object at 0x7f134788ff10>, <preprocess.PlayerKillEvent object at 0x7f134788caf0>, <preprocess.CarryFoodEvent object at 0x7f134788c400>, <preprocess.CarryFoodEvent object at 0x7f1347a74d90>, <preprocess.CarryFoodEvent object at 0x7f1347a74fa0>, <preprocess.PlayerKillEvent object at 0x7f1347a75ba0>, <preprocess.BlessMaidenEvent object at 0x7f1347a759c0>, <preprocess.PlayerKillEvent object at 0x7f1347a75ab0>, <preprocess.BerryDepositEvent object at 0x7f1347a75c90>, <preprocess.PlayerKillEvent object at 0x7f1347a76500>, <preprocess.BlessMaidenEvent object at 0x7f1347a76350>, <preprocess.PlayerKillEvent object at 0x7f1347a767d0>, <preprocess.CarryFoodEvent object at 0x7f1347a76260>, <preprocess.UseMaidenEvent object at 0x7f1347a76c80>, <preprocess.BlessMaidenEvent object at 0x7f1347a76b90>, <preprocess.CarryFoodEvent object at 0x7f1347a77430>, <preprocess.CarryFoodEvent object at 0x7f1347a774c0>, <preprocess.BerryDepositEvent object at 0x7f1347a77550>, <preprocess.CarryFoodEvent object at 0x7f1347a77700>, <preprocess.PlayerKillEvent object at 0x7f1347a77670>, <preprocess.BerryDepositEvent object at 0x7f1347a775e0>, <preprocess.BlessMaidenEvent object at 0x7f1347a77760>, <preprocess.UseMaidenEvent object at 0x7f1347a777c0>, <preprocess.PlayerKillEvent object at 0x7f1347a77820>, <preprocess.CarryFoodEvent object at 0x7f1347a77880>, <preprocess.PlayerKillEvent object at 0x7f1347a77910>, <preprocess.CarryFoodEvent object at 0x7f1347a77940>, <preprocess.BerryDepositEvent object at 0x7f1347a77a30>, <preprocess.CarryFoodEvent object at 0x7f1347a77ac0>, <preprocess.BlessMaidenEvent object at 0x7f1347a77b80>, <preprocess.CarryFoodEvent object at 0x7f1347a77c40>, <preprocess.PlayerKillEvent object at 0x7f1347a77c70>, <preprocess.VictoryEvent object at 0x7f1347a77c10>])\n"
     ]
    }
   ],
   "source": [
    "for x in iterate_unseen_states():\n",
    "    print(x)\n",
    "    break"
   ]
  },
  {
   "cell_type": "code",
   "execution_count": 15,
   "id": "7443af15",
   "metadata": {},
   "outputs": [
    {
     "name": "stdout",
     "output_type": "stream",
     "text": [
      "0\n",
      "100\n",
      "200\n",
      "300\n",
      "400\n",
      "500\n",
      "600\n",
      "700\n",
      "800\n",
      "900\n",
      "1000\n"
     ]
    }
   ],
   "source": [
    "def compute_seq():\n",
    "    count = 0\n",
    "\n",
    "    for game_id, event, game_state, all_game_events in iterate_unseen_states():\n",
    "        if game_state.get_team(Team.BLUE).eggs != 2:\n",
    "            if (count % 100 == 0):\n",
    "                print(count)\n",
    "            count += 1\n",
    "            if count > 1000:\n",
    "                break\n",
    "            new_gs = copy.deepcopy(game_state)\n",
    "            \n",
    "            new_gs.get_team(Team.BLUE).eggs += 1\n",
    "            new_encoded = vectorize_game_state(new_gs, event)\n",
    "            old_encoded = vectorize_game_state(game_state, event)\n",
    "            preds = bst.predict([old_encoded, new_encoded])\n",
    "            pred_diff = preds[1] - preds[0]\n",
    "            yield(pred_diff)\n",
    "\n",
    "deltas = list(compute_seq())"
   ]
  },
  {
   "cell_type": "code",
   "execution_count": 16,
   "id": "65e413a7",
   "metadata": {},
   "outputs": [
    {
     "data": {
      "text/plain": [
       "963"
      ]
     },
     "execution_count": 16,
     "metadata": {},
     "output_type": "execute_result"
    }
   ],
   "source": [
    "sum(d >= 0 for d in deltas)"
   ]
  }
 ],
 "metadata": {
  "kernelspec": {
   "display_name": "Python 3 (ipykernel)",
   "language": "python",
   "name": "python3"
  },
  "language_info": {
   "codemirror_mode": {
    "name": "ipython",
    "version": 3
   },
   "file_extension": ".py",
   "mimetype": "text/x-python",
   "name": "python",
   "nbconvert_exporter": "python",
   "pygments_lexer": "ipython3",
   "version": "3.10.7"
  }
 },
 "nbformat": 4,
 "nbformat_minor": 5
}
