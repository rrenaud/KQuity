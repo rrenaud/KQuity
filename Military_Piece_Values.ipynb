{
 "cells": [
  {
   "cell_type": "code",
   "execution_count": 1,
   "id": "a38f4aaa",
   "metadata": {},
   "outputs": [],
   "source": [
    "import pickle\n",
    "import numpy as np\n",
    "from constants import Map\n",
    "from  numpy.linalg import lstsq"
   ]
  },
  {
   "cell_type": "code",
   "execution_count": 2,
   "id": "42cc7786",
   "metadata": {},
   "outputs": [],
   "source": [
    "kill_matrix = pickle.load(open('kill_matrix_by_map.pkl', 'rb'))\n",
    "day_kill_mat = kill_matrix[Map.map_day]\n",
    "night_kill_mat = kill_matrix[Map.map_night]\n",
    "dusk_kill_mat = kill_matrix[Map.map_dusk]\n"
   ]
  },
  {
   "cell_type": "code",
   "execution_count": 3,
   "id": "ec954e36",
   "metadata": {},
   "outputs": [],
   "source": [
    "def kill_prob_mat(kill_count_mat):\n",
    "    return kill_count_mat / (kill_count_mat + kill_count_mat.T)"
   ]
  },
  {
   "cell_type": "code",
   "execution_count": 4,
   "id": "489aa52a",
   "metadata": {},
   "outputs": [
    {
     "data": {
      "text/plain": [
       "array([[0.5       , 0.61065294, 0.72674799],\n",
       "       [0.38934706, 0.5       , 0.65897133],\n",
       "       [0.27325201, 0.34102867, 0.5       ]])"
      ]
     },
     "execution_count": 4,
     "metadata": {},
     "output_type": "execute_result"
    }
   ],
   "source": [
    "kill_prob_mat(day_kill_mat)"
   ]
  },
  {
   "cell_type": "code",
   "execution_count": 5,
   "id": "243b1750",
   "metadata": {},
   "outputs": [
    {
     "data": {
      "text/plain": [
       "array([[0.5       , 0.63015529, 0.74482759],\n",
       "       [0.36984471, 0.5       , 0.64261812],\n",
       "       [0.25517241, 0.35738188, 0.5       ]])"
      ]
     },
     "execution_count": 5,
     "metadata": {},
     "output_type": "execute_result"
    }
   ],
   "source": [
    "kill_prob_mat(night_kill_mat)"
   ]
  },
  {
   "cell_type": "code",
   "execution_count": 6,
   "id": "9f4c3e49",
   "metadata": {},
   "outputs": [
    {
     "data": {
      "text/plain": [
       "array([[0.5       , 0.57899414, 0.71772674],\n",
       "       [0.42100586, 0.5       , 0.65665302],\n",
       "       [0.28227326, 0.34334698, 0.5       ]])"
      ]
     },
     "execution_count": 6,
     "metadata": {},
     "output_type": "execute_result"
    }
   ],
   "source": [
    "kill_prob_mat(dusk_kill_mat)"
   ]
  },
  {
   "cell_type": "code",
   "execution_count": 10,
   "id": "603edcef",
   "metadata": {},
   "outputs": [
    {
     "data": {
      "text/plain": [
       "array([[83565, 26804, 55525],\n",
       "       [17090, 12416, 22293],\n",
       "       [20877, 11537, 27320]], dtype=int32)"
      ]
     },
     "execution_count": 10,
     "metadata": {},
     "output_type": "execute_result"
    }
   ],
   "source": [
    "day_kill_mat"
   ]
  },
  {
   "cell_type": "code",
   "execution_count": 8,
   "id": "736eadf0",
   "metadata": {},
   "outputs": [],
   "source": [
    "def make_values_mat(count_mat):\n",
    "    values_mat = np.zeros((4,3), float)\n",
    "    values_mat[0, 0] = 1\n",
    "    values_mat[0, 1] = -count_mat[0, 1] / count_mat[1, 0]\n",
    "    values_mat[1, 0] = 1\n",
    "    values_mat[1, 2] = -count_mat[0, 2] / count_mat[2, 0]\n",
    "    values_mat[2, 1] = 1\n",
    "    values_mat[2, 2] = -count_mat[1,2] / count_mat[2,1]\n",
    "    values_mat[3, 2] = 1\n",
    "    return values_mat"
   ]
  },
  {
   "cell_type": "code",
   "execution_count": 13,
   "id": "4cd0f468",
   "metadata": {},
   "outputs": [
    {
     "name": "stdout",
     "output_type": "stream",
     "text": [
      "Map.map_day          [2.74281282 1.80183344 1.        ]\n",
      "Map.map_night        [2.94845105 1.74780938 1.        ]\n",
      "Map.map_dusk         [2.56516077 1.88156994 1.        ]\n",
      "Map.map_twilight     [1.84026509 1.67782127 1.        ]\n"
     ]
    }
   ],
   "source": [
    "def solve_values(count_mat):\n",
    "    values = lstsq(make_values_mat(count_mat), [0, 0, 0, 1], rcond=None)[0]\n",
    "    return values / values[2]\n",
    "\n",
    "\n",
    "piece_values_by_map = {k: solve_values(kill_matrix[k]) for k in kill_matrix}\n",
    "for k in kill_matrix:\n",
    "    print(str(k).ljust(20), piece_values_by_map[k])\n"
   ]
  }
 ],
 "metadata": {
  "kernelspec": {
   "display_name": "Python 3 (ipykernel)",
   "language": "python",
   "name": "python3"
  },
  "language_info": {
   "codemirror_mode": {
    "name": "ipython",
    "version": 3
   },
   "file_extension": ".py",
   "mimetype": "text/x-python",
   "name": "python",
   "nbconvert_exporter": "python",
   "pygments_lexer": "ipython3",
   "version": "3.10.7"
  }
 },
 "nbformat": 4,
 "nbformat_minor": 5
}
