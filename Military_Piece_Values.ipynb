{
 "cells": [
  {
   "cell_type": "code",
   "execution_count": 127,
   "id": "a38f4aaa",
   "metadata": {},
   "outputs": [],
   "source": [
    "import pickle\n",
    "import numpy as np\n",
    "from constants import Map\n",
    "from  numpy.linalg import lstsq"
   ]
  },
  {
   "cell_type": "code",
   "execution_count": 99,
   "id": "42cc7786",
   "metadata": {},
   "outputs": [],
   "source": [
    "kill_matrix = pickle.load(open('kill_matrix_by_map.pkl', 'rb'))\n",
    "day_kill_mat = kill_matrix[Map.map_day]\n",
    "night_kill_mat = kill_matrix[Map.map_night]\n",
    "dusk_kill_mat = kill_matrix[Map.map_dusk]\n"
   ]
  },
  {
   "cell_type": "code",
   "execution_count": null,
   "id": "31ba55bc",
   "metadata": {},
   "outputs": [],
   "source": []
  },
  {
   "cell_type": "code",
   "execution_count": 16,
   "id": "ec954e36",
   "metadata": {},
   "outputs": [],
   "source": [
    "def kill_prob_mat(kill_count_mat):\n",
    "    return kill_count_mat / (kill_count_mat + kill_count_mat.T)"
   ]
  },
  {
   "cell_type": "code",
   "execution_count": 86,
   "id": "489aa52a",
   "metadata": {},
   "outputs": [
    {
     "data": {
      "text/plain": [
       "array([[0.5       , 0.61065294, 0.72674799],\n",
       "       [0.38934706, 0.5       , 0.65897133],\n",
       "       [0.27325201, 0.34102867, 0.5       ]])"
      ]
     },
     "execution_count": 86,
     "metadata": {},
     "output_type": "execute_result"
    }
   ],
   "source": [
    "kill_prob_mat(day_kill_mat)"
   ]
  },
  {
   "cell_type": "code",
   "execution_count": 100,
   "id": "243b1750",
   "metadata": {},
   "outputs": [
    {
     "data": {
      "text/plain": [
       "array([[0.5       , 0.63015529, 0.74482759],\n",
       "       [0.36984471, 0.5       , 0.64261812],\n",
       "       [0.25517241, 0.35738188, 0.5       ]])"
      ]
     },
     "execution_count": 100,
     "metadata": {},
     "output_type": "execute_result"
    }
   ],
   "source": [
    "kill_prob_mat(night_kill_mat)"
   ]
  },
  {
   "cell_type": "code",
   "execution_count": 105,
   "id": "9f4c3e49",
   "metadata": {},
   "outputs": [
    {
     "data": {
      "text/plain": [
       "array([[0.5       , 0.57899414, 0.71772674],\n",
       "       [0.42100586, 0.5       , 0.65665302],\n",
       "       [0.28227326, 0.34334698, 0.5       ]])"
      ]
     },
     "execution_count": 105,
     "metadata": {},
     "output_type": "execute_result"
    }
   ],
   "source": [
    "kill_prob_mat(dusk_kill_mat)"
   ]
  },
  {
   "cell_type": "code",
   "execution_count": 113,
   "id": "603edcef",
   "metadata": {},
   "outputs": [
    {
     "data": {
      "text/plain": [
       "array([[83565, 26804, 55525],\n",
       "       [17090, 12416, 22293],\n",
       "       [20877, 11537, 27320]], dtype=int32)"
      ]
     },
     "execution_count": 113,
     "metadata": {},
     "output_type": "execute_result"
    }
   ],
   "source": [
    "day_kill_mat"
   ]
  },
  {
   "cell_type": "code",
   "execution_count": 123,
   "id": "736eadf0",
   "metadata": {},
   "outputs": [],
   "source": [
    "def make_values_mat(count_mat):\n",
    "    values_mat = np.zeros((4,3), float)\n",
    "    values_mat[0, 0] = 1\n",
    "    values_mat[0, 1] = -count_mat[0, 1] / count_mat[1, 0]\n",
    "    values_mat[1, 0] = 1\n",
    "    values_mat[1, 2] = -count_mat[0, 2] / count_mat[2, 0]\n",
    "    values_mat[2, 1] = 1\n",
    "    values_mat[2, 2] = -count_mat[1,2] / count_mat[2,1]\n",
    "    values_mat[3, 2] = 1\n",
    "    return values_mat"
   ]
  },
  {
   "cell_type": "code",
   "execution_count": 135,
   "id": "4cd0f468",
   "metadata": {},
   "outputs": [
    {
     "name": "stdout",
     "output_type": "stream",
     "text": [
      "day   [2.74281282 1.80183344 1.        ]\n",
      "night [2.94845105 1.74780938 1.        ]\n",
      "dusk  [2.56516077 1.88156994 1.        ]\n"
     ]
    }
   ],
   "source": [
    "def solve_values(count_mat):\n",
    "    values = lstsq(make_values_mat(count_mat), [0, 0, 0, 1], rcond=None)[0]\n",
    "    return values / values[2]\n",
    "\n",
    "print('day  ', solve_values(day_kill_mat))\n",
    "print('night', solve_values(night_kill_mat))\n",
    "print('dusk ', solve_values(dusk_kill_mat))\n"
   ]
  }
 ],
 "metadata": {
  "kernelspec": {
   "display_name": "Python 3 (ipykernel)",
   "language": "python",
   "name": "python3"
  },
  "language_info": {
   "codemirror_mode": {
    "name": "ipython",
    "version": 3
   },
   "file_extension": ".py",
   "mimetype": "text/x-python",
   "name": "python",
   "nbconvert_exporter": "python",
   "pygments_lexer": "ipython3",
   "version": "3.10.7"
  }
 },
 "nbformat": 4,
 "nbformat_minor": 5
}
